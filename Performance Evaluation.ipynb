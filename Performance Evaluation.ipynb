{
 "cells": [
  {
   "cell_type": "markdown",
   "metadata": {},
   "source": [
    "# Confusion Matrix Understanding"
   ]
  },
  {
   "cell_type": "code",
   "execution_count": 10,
   "metadata": {},
   "outputs": [],
   "source": [
    "from sklearn import metrics"
   ]
  },
  {
   "cell_type": "code",
   "execution_count": 11,
   "metadata": {},
   "outputs": [],
   "source": [
    "C = \"cat\"\n",
    "D = \"dog\"\n",
    "F = \"fox\""
   ]
  },
  {
   "cell_type": "code",
   "execution_count": 12,
   "metadata": {},
   "outputs": [
    {
     "name": "stdout",
     "output_type": "stream",
     "text": [
      "[[4 1 1]\n",
      " [4 5 1]\n",
      " [6 2 1]]\n",
      "              precision    recall  f1-score   support\n",
      "\n",
      "         cat      0.286     0.667     0.400         6\n",
      "         dog      0.625     0.500     0.556        10\n",
      "         fox      0.333     0.111     0.167         9\n",
      "\n",
      "    accuracy                          0.400        25\n",
      "   macro avg      0.415     0.426     0.374        25\n",
      "weighted avg      0.439     0.400     0.378        25\n",
      "\n"
     ]
    }
   ],
   "source": [
    "y_true = [C,C,C,C,C,C,F,F,F,F,F,F,F,F,F,D,D,D,D,D,D,D,D,D,D]\n",
    "y_pred = [C,C,C,C,D,F,C,C,C,C,C,C,D,D,F,F,C,C,C,C,D,D,D,D,D]\n",
    "print(metrics.confusion_matrix(y_true,y_pred))\n",
    "print(metrics.classification_report(y_true,y_pred,digits = 3))"
   ]
  },
  {
   "cell_type": "code",
   "execution_count": null,
   "metadata": {},
   "outputs": [],
   "source": []
  }
 ],
 "metadata": {
  "kernelspec": {
   "display_name": "Python 3",
   "language": "python",
   "name": "python3"
  },
  "language_info": {
   "codemirror_mode": {
    "name": "ipython",
    "version": 3
   },
   "file_extension": ".py",
   "mimetype": "text/x-python",
   "name": "python",
   "nbconvert_exporter": "python",
   "pygments_lexer": "ipython3",
   "version": "3.7.3"
  }
 },
 "nbformat": 4,
 "nbformat_minor": 2
}
